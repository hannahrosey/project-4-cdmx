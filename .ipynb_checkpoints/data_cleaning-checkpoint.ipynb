{
 "cells": [
  {
   "cell_type": "code",
   "execution_count": 68,
   "id": "ea611485",
   "metadata": {},
   "outputs": [],
   "source": [
    "import numpy as np\n",
    "import pandas as pd\n",
    "import requests as r\n",
    "import gzip\n",
    "import os\n",
    "import datetime as dt\n",
    "import re\n",
    "\n",
    "os.chdir('data')\n",
    "\n",
    "# get reviews and listings data\n",
    "with gzip.open('reviews_2021.csv.gz','rt',encoding='utf-8') as f:\n",
    "    reviews21 = pd.read_csv(f)\n",
    "with gzip.open('reviews_2022.csv.gz','rt',encoding='utf-8') as f:\n",
    "    reviews22 = pd.read_csv(f)\n",
    "reviews = pd.concat([reviews21,reviews22])\n",
    "del reviews21\n",
    "del reviews22\n",
    "\n",
    "# get listings data\n",
    "listings21 = pd.read_csv('listings_2021.csv')\n",
    "listings22 = pd.read_csv('listings_2022.csv')\n",
    "listings = pd.concat([listings21,listings22])\n",
    "del listings21\n",
    "del listings22\n",
    "\n",
    "# Summarize reviews per month per year for each listing\n",
    "reviews['year_month'] = reviews['date'].apply(lambda x: dt.datetime.strftime(dt.datetime.strptime(x,\"%Y-%m-%d\"),\"%Y-%m\"))\n",
    "reviews['year'] = reviews['date'].apply(lambda x: dt.datetime.strftime(dt.datetime.strptime(x,\"%Y-%m-%d\"),\"%Y\"))\n",
    "review_counts = reviews.groupby(['listing_id','year']).aggregate({'comments':'count'}).reset_index()\n",
    "\n",
    "# Summarize listing information per month per year\n",
    "listings['price'] = listings['price'].apply(lambda x: float(re.sub('\\\\$|,','',str(x))))\n",
    "listings['lat_lon'] = listings['latitude'].astype(str) + ',' + listings['longitude'].astype(str)\n",
    "listings_summary = listings.groupby(['id'])[['price','lat_lon']].aggregate({\n",
    "    'lat_lon':pd.Series.mode,\n",
    "    'price':'median'}).reset_index()\n",
    "listings_summary['latitude'] = listings_summary['lat_lon'].apply(lambda x: str.split(x[0] if len(x)==2 else x,',')[0])\n",
    "listings_summary['longitude'] = listings_summary['lat_lon'].apply(lambda x: str.split(x[0] if len(x)==2 else x,',')[1]) \n",
    "\n",
    "# Combine data, check for uniqueness, and write each year to csv for QGIS analysis\n",
    "final = review_counts.merge(listings_summary,\n",
    "                   left_on='listing_id',\n",
    "                   right_on='id')\n",
    "    \n",
    "assert len(review_counts.groupby(['listing_id','year']).agg('count').query('comments>1'))==0, \"Error: Non-unique by listing and month\"\n",
    "\n",
    "for y in np.arange(2018,2023,1):\n",
    "    final[final.year==str(y)].to_csv(\"layer\"+str(y)+\".csv\")\n",
    "    "
   ]
  },
  {
   "cell_type": "code",
   "execution_count": null,
   "id": "9c1470a4",
   "metadata": {},
   "outputs": [],
   "source": []
  }
 ],
 "metadata": {
  "kernelspec": {
   "display_name": "Python 3 (ipykernel)",
   "language": "python",
   "name": "python3"
  },
  "language_info": {
   "codemirror_mode": {
    "name": "ipython",
    "version": 3
   },
   "file_extension": ".py",
   "mimetype": "text/x-python",
   "name": "python",
   "nbconvert_exporter": "python",
   "pygments_lexer": "ipython3",
   "version": "3.9.7"
  }
 },
 "nbformat": 4,
 "nbformat_minor": 5
}
